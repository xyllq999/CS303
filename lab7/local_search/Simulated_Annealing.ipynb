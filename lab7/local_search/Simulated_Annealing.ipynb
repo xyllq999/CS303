{
 "cells": [
  {
   "cell_type": "code",
   "execution_count": 1,
   "metadata": {},
   "outputs": [],
   "source": [
    "import numpy as np\n",
    "import time\n",
    "import math\n",
    "import random\n",
    "from random import randint"
   ]
  },
  {
   "cell_type": "markdown",
   "metadata": {},
   "source": [
    "# Simulated Annealing\n",
    "\n",
    "Solve the Sudoku problem with Simulated Annealing. You can design your own algorithm or simply refer to [Metaheuristics_can_solve_Sudoku_puzzles](https://www.researchgate.net/publication/220403361_Metaheuristics_can_solve_Sudoku_puzzles). \n",
    "\n",
    "The code provided below starts with making a problem instance and ends by visualizing the running process of SA."
   ]
  },
  {
   "cell_type": "code",
   "execution_count": 2,
   "metadata": {},
   "outputs": [
    {
     "name": "stdout",
     "output_type": "stream",
     "text": [
      "3.53 ms ± 160 µs per loop (mean ± std. dev. of 7 runs, 100 loops each)\n",
      "61.1 µs ± 591 ns per loop (mean ± std. dev. of 7 runs, 10000 loops each)\n"
     ]
    },
    {
     "data": {
      "text/plain": "array([[1, 2, 3, 4, 5, 6, 7, 8, 9],\n       [4, 5, 6, 7, 8, 9, 1, 2, 3],\n       [7, 8, 9, 1, 2, 3, 4, 5, 6],\n       [2, 3, 4, 5, 6, 7, 8, 9, 1],\n       [5, 6, 7, 8, 9, 1, 2, 3, 4],\n       [8, 9, 1, 2, 3, 4, 5, 6, 7],\n       [3, 4, 5, 6, 7, 8, 9, 1, 2],\n       [6, 7, 8, 9, 1, 2, 3, 4, 5],\n       [9, 1, 2, 3, 4, 5, 6, 7, 8]])"
     },
     "execution_count": 2,
     "metadata": {},
     "output_type": "execute_result"
    }
   ],
   "source": [
    "# making a problem instance\n",
    "def make_grid_python(n):\n",
    "    grid = np.empty((n**2, n**2), int)\n",
    "    # print(grid)\n",
    "    x = 0\n",
    "    for i in range(n):\n",
    "        for j in range(n):\n",
    "            for k in range(n**2):\n",
    "                grid[n*i+j, k] = x%(n**2) + 1\n",
    "                x += 1\n",
    "            x += n\n",
    "        x += 1\n",
    "    return grid\n",
    "\n",
    "def make_grid_numpy(n):\n",
    "    return np.fromfunction(lambda i, j: (i*n+i//n+j)%(n**2)+1, (n**2, n**2), dtype=int)\n",
    "\n",
    "# a comparison between native python and numpy\n",
    "# vary n to see their performances\n",
    "n = 10\n",
    "%timeit make_grid_python(n)\n",
    "%timeit make_grid_numpy(n)\n",
    "\n",
    "# test\n",
    "grid = make_grid_python(3)\n",
    "grid"
   ]
  },
  {
   "cell_type": "code",
   "execution_count": 3,
   "metadata": {},
   "outputs": [
    {
     "data": {
      "text/plain": "(array([[9, 2, 3, 4, 3, 6, 8, 6, 9],\n        [4, 5, 1, 7, 8, 9, 1, 2, 3],\n        [7, 6, 8, 5, 2, 1, 4, 5, 7],\n        [2, 3, 4, 3, 6, 7, 4, 9, 1],\n        [5, 6, 7, 9, 1, 5, 5, 3, 8],\n        [8, 9, 1, 8, 2, 4, 7, 2, 6],\n        [3, 4, 5, 1, 9, 8, 4, 1, 2],\n        [6, 7, 8, 7, 2, 4, 3, 6, 5],\n        [9, 1, 2, 3, 6, 5, 9, 7, 8]]),\n -33)"
     },
     "execution_count": 3,
     "metadata": {},
     "output_type": "execute_result"
    }
   ],
   "source": [
    "class Sudoku:\n",
    "    @classmethod\n",
    "    def create(cls, n, seed=303):\n",
    "        rng = np.random.default_rng(seed)\n",
    "        init_grid = make_grid_numpy(n)\n",
    "        # print(init_grid)\n",
    "        # randomly mask out some cells to create a problem instance\n",
    "        # cells marked by *1* is given and fixed\n",
    "        mask = rng.integers(0, 2, size=init_grid.shape)\n",
    "        grid = init_grid*mask\n",
    "        # print(grid)\n",
    "\n",
    "        return cls(n, mask, grid, seed)\n",
    "\n",
    "    def __init__(self, n, mask, grid, seed) -> None:\n",
    "        self.seed = seed\n",
    "        self.mask = mask\n",
    "        self.grid = grid\n",
    "        self.n = n\n",
    "        self.all = set(range(1, n**2+1))\n",
    "\n",
    "    def value(self):\n",
    "        n = self.n\n",
    "        value = 0\n",
    "        for row in range(n * n):\n",
    "            row_num = set()\n",
    "            for col in range(n * n):\n",
    "                if self.grid[row][col] not in row_num:\n",
    "                    row_num.add(self.grid[row][col])\n",
    "                else:\n",
    "                    value -= 1\n",
    "        for col in range(n * n):\n",
    "            col_num = set()\n",
    "            for row in range(n * n):\n",
    "                if self.grid[row][col] not in col_num:\n",
    "                    col_num.add(self.grid[row][col])\n",
    "                else:\n",
    "                    value -= 1\n",
    "        return value\n",
    "    \n",
    "    def local_search(self):\n",
    "        grid = self.grid.copy()\n",
    "        # TODO: apply your neighborhood search operator to get the next stat\n",
    "        # for i in range(9):\n",
    "        # for row_district in range(n):\n",
    "        #     for col_district in range(n):\n",
    "        row_district = randint(0, n - 1)\n",
    "        col_district = randint(0, n - 1)\n",
    "        x1 = randint(0, n - 1) + n * row_district\n",
    "        y1 = randint(0, n - 1) + n * col_district\n",
    "        while self.mask[x1][y1] == 1:\n",
    "            x1 = randint(0, n - 1) + n * row_district\n",
    "            y1 = randint(0, n - 1) + n * col_district\n",
    "            # print(x1, y1)\n",
    "        x2 = randint(0, n - 1) + n * row_district\n",
    "        y2 = randint(0, n - 1) + n * col_district\n",
    "        while self.mask[x2][y2] == 1:\n",
    "            x2 = randint(0, n - 1) + n * row_district\n",
    "            y2 = randint(0, n - 1) + n * col_district\n",
    "            # print(x2, y2)\n",
    "        temp = grid[x1][y1]\n",
    "        grid[x1][y1] = grid[x2][y2]\n",
    "        grid[x2][y2] = temp\n",
    "\n",
    "        next_state = Sudoku(self.n, self.mask, grid, self.seed)\n",
    "\n",
    "        return next_state\n",
    "\n",
    "\n",
    "    def init_solution(self):\n",
    "        rng = np.random.default_rng(self.seed)\n",
    "        n = self.n\n",
    "        grid = self.grid.reshape(n, n, n, n).transpose(0, 2, 1, 3)\n",
    "        for I in np.ndindex(n, n):\n",
    "            idx = grid[I]==0\n",
    "            grid[I][idx] = rng.permutation(list(self.all-set(grid[I].flat)))\n",
    "        return self\n",
    "        \n",
    "    def __repr__(self) -> str:\n",
    "        return self.grid.__repr__()\n",
    "\n",
    "# test\n",
    "sudoku = Sudoku.create(3)\n",
    "sudoku.init_solution()\n",
    "sudoku, sudoku.value()"
   ]
  },
  {
   "cell_type": "code",
   "execution_count": 4,
   "metadata": {},
   "outputs": [],
   "source": [
    "def simulated_annealing(initial:Sudoku, schedule, halt, log_interval=200):\n",
    "    state = initial.init_solution()\n",
    "    # print(state)\n",
    "    t = 0           # time step\n",
    "    T = schedule(t) # temperature\n",
    "    f = [state.value()] # a recording of values\n",
    "    while not halt(T):\n",
    "        T = schedule(t)\n",
    "        new_state = state.local_search()\n",
    "        new_value = new_state.value()\n",
    "        # TODO: implement the replacement here\n",
    "        max_value = f[-1]\n",
    "        if new_value > max_value or (math.exp((new_value - max_value)/T) > random.random()):\n",
    "            state = new_state\n",
    "            f.append(new_value)\n",
    "        # update time and temperature\n",
    "        if t % log_interval == 0:\n",
    "            print(f\"step {t}: T={T}, current_value={state.value()}\")\n",
    "        t += 1\n",
    "        T = schedule(t)\n",
    "    print(f\"step {t}: T={T}, current_value={state.value()}\")\n",
    "    return state, f"
   ]
  },
  {
   "cell_type": "code",
   "execution_count": 9,
   "metadata": {},
   "outputs": [
    {
     "name": "stdout",
     "output_type": "stream",
     "text": [
      "step 0: T=1.0, current_value=-125\n",
      "step 200: T=0.8186488294786356, current_value=-89\n",
      "step 400: T=0.6701859060067401, current_value=-75\n",
      "step 600: T=0.5486469074854967, current_value=-58\n",
      "step 800: T=0.4491491486100751, current_value=-53\n",
      "step 1000: T=0.36769542477096373, current_value=-55\n",
      "step 1200: T=0.3010134290933991, current_value=-52\n",
      "step 1400: T=0.2464242913846615, current_value=-48\n",
      "step 1600: T=0.20173495769715533, current_value=-46\n",
      "step 1800: T=0.16515008698369826, current_value=-43\n",
      "step 2000: T=0.13519992539749945, current_value=-37\n",
      "step 2200: T=0.11068126067226176, current_value=-33\n",
      "step 2400: T=0.09060908449456684, current_value=-30\n",
      "step 2600: T=0.07417702096160793, current_value=-27\n",
      "step 2800: T=0.060724931384432544, current_value=-19\n",
      "step 3000: T=0.04971239399803616, current_value=-19\n",
      "step 3200: T=0.04069699315707305, current_value=-19\n",
      "step 3400: T=0.033316545811337896, current_value=-19\n",
      "step 3600: T=0.027274551230723105, current_value=-13\n",
      "step 3800: T=0.02232827943958655, current_value=-13\n",
      "step 4000: T=0.018279019827489414, current_value=-13\n",
      "step 4200: T=0.01496409818579098, current_value=-13\n",
      "step 4400: T=0.01225034146400116, current_value=-11\n",
      "step 4600: T=0.010028727700218143, current_value=-11\n",
      "step 4800: T=0.008210006192943552, current_value=-11\n",
      "step 5000: T=0.006721111959865588, current_value=-11\n",
      "step 5200: T=0.005502230438738822, current_value=-11\n",
      "step 5400: T=0.004504394508195256, current_value=-9\n",
      "step 5600: T=0.0036875172916440405, current_value=-9\n",
      "step 5800: T=0.003018781714486622, current_value=-8\n",
      "step 6000: T=0.0024713221170159817, current_value=-8\n",
      "step 6200: T=0.002023144958359797, current_value=-8\n",
      "step 6400: T=0.0016562452520268508, current_value=-8\n",
      "step 6600: T=0.001355883236901329, current_value=-8\n",
      "step 6800: T=0.0011099922247989767, current_value=-8\n",
      "step 7000: T=0.0009086938355620688, current_value=-8\n",
      "step 7200: T=0.0007439011448373393, current_value=-8\n",
      "step 7400: T=0.0006089938014689048, current_value=-8\n",
      "step 7600: T=0.0004985520627322635, current_value=-8\n",
      "step 7800: T=0.00040813906258992675, current_value=-8\n",
      "step 8000: T=0.00033412256585375113, current_value=-8\n",
      "step 8200: T=0.0002735290474385717, current_value=-8\n",
      "step 8400: T=0.00022392423451399288, current_value=-8\n",
      "step 8600: T=0.00018331531247677975, current_value=-8\n",
      "step 8800: T=0.00015007086598462605, current_value=-8\n",
      "step 9000: T=0.00012285533877715932, current_value=-8\n",
      "step 9200: T=0.0001005753792851227, current_value=-8\n",
      "step 9400: T=8.233591652613551e-05, current_value=-8\n",
      "step 9600: T=6.740420168817147e-05, current_value=-8\n",
      "step 9800: T=5.5180370813963455e-05, current_value=-8\n",
      "step 10000: T=4.517334597704824e-05, current_value=-8\n",
      "step 10200: T=3.6981106807743975e-05, current_value=-8\n",
      "step 10400: T=3.0274539800984007e-05, current_value=-8\n",
      "step 10600: T=2.4784216571079923e-05, current_value=-6\n",
      "step 10800: T=2.028956988545958e-05, current_value=-6\n",
      "step 11000: T=1.661003263735646e-05, current_value=-6\n",
      "step 11200: T=1.3597783776173799e-05, current_value=-6\n",
      "step 11400: T=1.1131809771868262e-05, current_value=-6\n",
      "step 11600: T=9.11304303971879e-06, current_value=-6\n",
      "step 11800: T=7.460382017454214e-06, current_value=-6\n",
      "step 12000: T=6.107433006052354e-06, current_value=-6\n",
      "step 12200: T=4.999842881523944e-06, current_value=-6\n",
      "step 12400: T=4.093115522536665e-06, current_value=-4\n",
      "step 12600: T=3.3508242314454746e-06, current_value=-4\n",
      "step 12800: T=2.7431483348614865e-06, current_value=-4\n",
      "step 13000: T=2.2456751734206243e-06, current_value=-4\n",
      "step 13200: T=1.838419352110026e-06, current_value=-4\n",
      "step 13400: T=1.5050198506957442e-06, current_value=-4\n",
      "step 13600: T=1.232082739114182e-06, current_value=-4\n",
      "step 13800: T=1.008643092196656e-06, current_value=-4\n",
      "step 14000: T=8.25724486788504e-07, current_value=-4\n",
      "step 14200: T=6.759783845812558e-07, current_value=-4\n",
      "step 14400: T=5.533889132903041e-07, current_value=-4\n",
      "step 14600: T=4.530311861115616e-07, current_value=-4\n",
      "step 14800: T=3.708734502275478e-07, current_value=-4\n",
      "step 15000: T=3.03615115913485e-07, current_value=-4\n",
      "step 15200: T=2.4855415925459474e-07, current_value=-4\n",
      "step 15400: T=2.0347857153582036e-07, current_value=-2\n",
      "step 15600: T=1.6657749441178416e-07, current_value=-2\n",
      "step 15800: T=1.3636847081769104e-07, current_value=-2\n",
      "step 16000: T=1.1163788901269425e-07, current_value=-2\n",
      "step 16200: T=9.139222716570799e-08, current_value=-2\n",
      "step 16400: T=7.481813979265239e-08, current_value=-2\n",
      "step 16600: T=6.124978256502381e-08, current_value=-2\n",
      "step 16800: T=5.014206280267768e-08, current_value=-2\n",
      "step 17000: T=4.104874102105632e-08, current_value=-2\n",
      "step 17200: T=3.360450378845941e-08, current_value=-2\n",
      "step 17400: T=2.7510287691632665e-08, current_value=-2\n",
      "step 17600: T=2.2521264817375596e-08, current_value=-2\n",
      "step 17800: T=1.843700708112291e-08, current_value=-2\n",
      "step 18000: T=1.5093434266050585e-08, current_value=-2\n",
      "step 18200: T=1.235622229471504e-08, current_value=-2\n",
      "step 18400: T=1.0115406918346288e-08, current_value=-2\n",
      "step 18600: T=8.28096603340428e-09, current_value=-2\n",
      "step 18800: T=6.779203150198754e-09, current_value=-2\n",
      "step 19000: T=5.549786723708089e-09, current_value=-2\n",
      "step 19200: T=4.543326405219699e-09, current_value=-2\n",
      "step 19400: T=3.7193888435724836e-09, current_value=-2\n",
      "step 19600: T=3.0448733231665094e-09, current_value=-2\n",
      "step 19800: T=2.492681981920986e-09, current_value=-2\n",
      "step 20000: T=2.0406311867621007e-09, current_value=-2\n",
      "step 20200: T=1.6705603324403928e-09, current_value=-2\n",
      "step 20400: T=1.367602260725768e-09, current_value=0\n",
      "step 20600: T=1.1195859899354857e-09, current_value=0\n",
      "step 20800: T=9.165477601613648e-10, current_value=0\n",
      "step 21000: T=7.503307510173665e-10, current_value=0\n",
      "step 21200: T=6.142573910421926e-10, current_value=0\n",
      "step 21400: T=5.028610941752915e-10, current_value=0\n",
      "step 21600: T=4.116666461369483e-10, current_value=0\n",
      "step 21800: T=3.370104179954084e-10, current_value=0\n",
      "step 22000: T=2.758931842140468e-10, current_value=0\n",
      "step 22200: T=2.2585963231796296e-10, current_value=0\n",
      "step 22400: T=1.8489972362357538e-10, current_value=0\n",
      "step 22600: T=1.513679423153632e-10, current_value=0\n",
      "step 22800: T=1.2391718879706173e-10, current_value=0\n",
      "step 23000: T=1.0144466156099767e-10, current_value=0\n",
      "step 23200: T=8.304755344376707e-11, current_value=0\n",
      "step 23400: T=6.798678241780435e-11, current_value=0\n",
      "step 23600: T=5.565729984635421e-11, current_value=0\n",
      "step 23800: T=4.5563783371159316e-11, current_value=0\n",
      "step 24000: T=3.7300737923417696e-11, current_value=0\n",
      "step 24200: T=3.0536205439695246e-11, current_value=0\n",
      "step 24400: T=2.4998428839925658e-11, current_value=0\n",
      "step 24600: T=2.0464934508610105e-11, current_value=0\n",
      "step 24800: T=1.6753594680830598e-11, current_value=0\n",
      "step 25000: T=1.3715310675021464e-11, current_value=0\n",
      "step 25200: T=1.1228023030042157e-11, current_value=0\n",
      "step 25316: T=9.997696044788713e-12, current_value=0\n"
     ]
    },
    {
     "data": {
      "text/plain": "(array([[ 1,  2,  3,  4,  5,  6,  7,  8,  9, 10, 11, 12, 13, 14, 15, 16],\n        [ 5,  6,  7,  8,  9, 10, 11, 12, 13, 14, 15, 16,  1,  2,  3,  4],\n        [ 9, 10, 11, 12, 13, 14, 15, 16,  1,  2,  3,  4,  5,  6,  7,  8],\n        [13, 14, 15, 16,  1,  2,  3,  4,  5,  6,  7,  8,  9, 10, 11, 12],\n        [ 2,  3,  4,  5,  6,  7, 16,  9, 10, 11, 12, 13, 14, 15,  8,  1],\n        [ 6,  7,  8, 13, 10, 11, 12,  1, 14, 15, 16,  5,  2,  3,  4,  9],\n        [10, 11, 12,  9, 14, 15,  8, 13,  2,  3,  4,  1,  6,  7, 16,  5],\n        [14, 15, 16,  1,  2,  3,  4,  5,  6,  7,  8,  9, 10, 11, 12, 13],\n        [ 3,  4,  5,  6,  7,  8,  9, 10, 11, 12, 13, 14, 15, 16,  1,  2],\n        [ 7,  8,  9, 10, 11, 12, 13, 14, 15, 16,  1,  2,  3,  4,  5,  6],\n        [11, 12, 13, 14, 15, 16,  1,  2,  3,  4,  5,  6,  7,  8,  9, 10],\n        [15, 16,  1,  2,  3,  4,  5,  6,  7,  8,  9, 10, 11, 12, 13, 14],\n        [ 4,  5,  6,  7,  8,  9, 10, 11, 12, 13, 14, 15, 16,  1,  2,  3],\n        [ 8,  9, 10, 11, 12, 13, 14, 15, 16,  1,  2,  3,  4,  5,  6,  7],\n        [12, 13, 14, 15, 16,  1,  2,  3,  4,  5,  6,  7,  8,  9, 10, 11],\n        [16,  1,  2,  3,  4,  5,  6,  7,  8,  9, 10, 11, 12, 13, 14, 15]]),\n 0)"
     },
     "execution_count": 9,
     "metadata": {},
     "output_type": "execute_result"
    }
   ],
   "source": [
    "import matplotlib.pyplot as plt\n",
    "\n",
    "# define your own schedule and halt condition\n",
    "# run the algorithm on different n with different settings\n",
    "n = 4\n",
    "solution, record = simulated_annealing(\n",
    "    initial=Sudoku.create(n), \n",
    "    schedule=lambda t: 0.999**t, \n",
    "    halt=lambda T: T<1e-11\n",
    ")\n",
    "solution, solution.value()"
   ]
  },
  {
   "cell_type": "code",
   "execution_count": 10,
   "metadata": {
    "pycharm": {
     "name": "#%%\n"
    }
   },
   "outputs": [
    {
     "data": {
      "text/plain": "Text(0, 0.5, 'value')"
     },
     "execution_count": 10,
     "metadata": {},
     "output_type": "execute_result"
    },
    {
     "data": {
      "text/plain": "<Figure size 432x288 with 1 Axes>",
      "image/png": "[encoded data removed]"
     },
     "metadata": {
      "needs_background": "light"
     },
     "output_type": "display_data"
    }
   ],
   "source": [
    "# visualize the curve\n",
    "plt.plot(record)\n",
    "plt.xlabel(\"time step\")\n",
    "plt.ylabel(\"value\")\n",
    "# record"
   ]
  },
  {
   "cell_type": "code",
   "execution_count": 6,
   "outputs": [],
   "source": [],
   "metadata": {
    "collapsed": false,
    "pycharm": {
     "name": "#%%\n"
    }
   }
  }
 ],
 "metadata": {
  "interpreter": {
   "hash": "dc1b36ca92b83d5ef109eaced03555f57acee2abd9fee9dc0fa9bba105170b52"
  },
  "kernelspec": {
   "display_name": "Python 3 (ipykernel)",
   "language": "python",
   "name": "python3"
  },
  "language_info": {
   "codemirror_mode": {
    "name": "ipython",
    "version": 3
   },
   "file_extension": ".py",
   "mimetype": "text/x-python",
   "name": "python",
   "nbconvert_exporter": "python",
   "pygments_lexer": "ipython3",
   "version": "3.7.11"
  }
 },
 "nbformat": 4,
 "nbformat_minor": 2
}