{
 "cells": [
  {
   "cell_type": "code",
   "execution_count": 2,
   "metadata": {
    "collapsed": true
   },
   "outputs": [],
   "source": [
    "import numpy as np"
   ]
  },
  {
   "cell_type": "code",
   "execution_count": 3,
   "outputs": [
    {
     "data": {
      "text/plain": "array([[-990,   40, -300, -200, -200, -300,   40, -990],\n       [  40,  400,   -4,   -2,   -2,   -4,  400,   40],\n       [-300,   -4,   -5,   -1,   -1,   -5,   -4, -300],\n       [-200,   -2,   -1,    0,    0,   -1,   -2, -200],\n       [-200,   -2,   -1,    0,    0,   -1,   -2, -200],\n       [-300,   -4,   -5,   -1,   -1,   -5,   -4, -300],\n       [  40,  400,   -4,   -2,   -2,   -4,  400,   40],\n       [-990,   40, -300, -200, -200, -300,   40, -990]])"
     },
     "execution_count": 3,
     "metadata": {},
     "output_type": "execute_result"
    }
   ],
   "source": [
    "chessboard = -np.array([\n",
    "            [990, -40, 300, 200, 200, 300, -40, 990],\n",
    "            [-40, -400, 4, 2, 2, 4, -400, -40],\n",
    "            [300, 4, 5, 1, 1, 5, 4, 300],\n",
    "            [200, 2, 1, 0, 0, 1, 2, 200],\n",
    "            [200, 2, 1, 0, 0, 1, 2, 200],\n",
    "            [300, 4, 5, 1, 1, 5, 4, 300],\n",
    "            [-40, -400, 4, 2, 2, 4, -400, -40],\n",
    "            [990, -40, 300, 200, 200, 300, -40, 990]\n",
    "        ])\n",
    "chessboard"
   ],
   "metadata": {
    "collapsed": false,
    "pycharm": {
     "name": "#%%\n"
    }
   }
  },
  {
   "cell_type": "code",
   "execution_count": 5,
   "outputs": [],
   "source": [
    "rest = np.where(chessboard == 0)\n",
    "rest = list(zip(rest[0], rest[1]))"
   ],
   "metadata": {
    "collapsed": false,
    "pycharm": {
     "name": "#%%\n"
    }
   }
  },
  {
   "cell_type": "code",
   "execution_count": 6,
   "outputs": [
    {
     "data": {
      "text/plain": "[(3, 3), (3, 4), (4, 3), (4, 4)]"
     },
     "execution_count": 6,
     "metadata": {},
     "output_type": "execute_result"
    }
   ],
   "source": [
    "rest"
   ],
   "metadata": {
    "collapsed": false,
    "pycharm": {
     "name": "#%%\n"
    }
   }
  },
  {
   "cell_type": "code",
   "execution_count": 7,
   "outputs": [
    {
     "name": "stdout",
     "output_type": "stream",
     "text": [
      "3\n",
      "3\n",
      "3\n",
      "4\n",
      "4\n",
      "3\n",
      "4\n",
      "4\n"
     ]
    }
   ],
   "source": [
    "for x, y in rest:\n",
    "    print(x)\n",
    "    print(y)"
   ],
   "metadata": {
    "collapsed": false,
    "pycharm": {
     "name": "#%%\n"
    }
   }
  },
  {
   "cell_type": "code",
   "execution_count": 4,
   "outputs": [
    {
     "data": {
      "text/plain": "array([[120, -50,  48,  42,  42,  48, -50, 120],\n       [-50, -77,   8,   6,   6,   8, -77, -50],\n       [ 48,   8,   5,   4,   4,   5,   8,  48],\n       [ 42,   6,   4,   3,   3,   4,   6,  42],\n       [ 42,   6,   4,   3,   3,   4,   6,  42],\n       [ 48,   8,   5,   4,   4,   5,   8,  48],\n       [-50, -77,   8,   6,   6,   8, -77, -50],\n       [120, -50,  48,  42,  42,  48, -50, 120]])"
     },
     "execution_count": 4,
     "metadata": {},
     "output_type": "execute_result"
    }
   ],
   "source": [
    "weight_table = -np.array([\n",
    "        [-120, 50, -48, -42, -42, -48, 50, -120],\n",
    "        [50, 77, -8, -6, -6, -8, 77, 50],\n",
    "        [-48, -8, -5, -4, -4, -5, -8, -48],\n",
    "        [-42, -6, -4, -3, -3, -4, -6, -42],\n",
    "        [-42, -6, -4, -3, -3, -4, -6, -42],\n",
    "        [-48, -8, -5, -4, -4, -5, -8, -48],\n",
    "        [50, 77, -8, -6, -6, -8, 77, 50],\n",
    "        [-120, 50, -48, -42, -42, -48, 50, -120]\n",
    "    ])\n",
    "weight_table"
   ],
   "metadata": {
    "collapsed": false,
    "pycharm": {
     "name": "#%%\n"
    }
   }
  },
  {
   "cell_type": "code",
   "execution_count": 7,
   "outputs": [],
   "source": [
    "weight_table = weight_table + 3"
   ],
   "metadata": {
    "collapsed": false,
    "pycharm": {
     "name": "#%%\n"
    }
   }
  },
  {
   "cell_type": "code",
   "execution_count": 9,
   "outputs": [
    {
     "data": {
      "text/plain": "array([[120, -50,  48,  42,  42,  48, -50, 120],\n       [-50, -77,   8,   6,   6,   8, -77, -50],\n       [ 48,   8,   5,   4,   4,   5,   8,  48],\n       [ 42,   6,   4,   3,   3,   4,   6,  42],\n       [ 42,   6,   4,   3,   3,   4,   6,  42],\n       [ 48,   8,   5,   4,   4,   5,   8,  48],\n       [-50, -77,   8,   6,   6,   8, -77, -50],\n       [120, -50,  48,  42,  42,  48, -50, 120]])"
     },
     "execution_count": 9,
     "metadata": {},
     "output_type": "execute_result"
    }
   ],
   "source": [
    "weight_table = np.array([[120, -50,  48,  42,  42,  48, -50, 120],\n",
    "       [-50, -77,   8,   6,   6,   8, -77, -50],\n",
    "       [ 48,   8,   5,   4,   4,   5,   8,  48],\n",
    "       [ 42,   6,   4,   3,   3,   4,   6,  42],\n",
    "       [ 42,   6,   4,   3,   3,   4,   6,  42],\n",
    "       [ 48,   8,   5,   4,   4,   5,   8,  48],\n",
    "       [-50, -77,   8,   6,   6,   8, -77, -50],\n",
    "       [120, -50,  48,  42,  42,  48, -50, 120]])\n",
    "weight_table"
   ],
   "metadata": {
    "collapsed": false,
    "pycharm": {
     "name": "#%%\n"
    }
   }
  },
  {
   "cell_type": "code",
   "execution_count": 1,
   "outputs": [
    {
     "data": {
      "text/plain": "(120, -50, 48, 42, -77, 8, 6, 5, 4, 3)"
     },
     "execution_count": 1,
     "metadata": {},
     "output_type": "execute_result"
    }
   ],
   "source": [
    "weight_list = (120, -50, 48, 42, -77, 8, 6, 5, 4, 3)\n",
    "weight_list"
   ],
   "metadata": {
    "collapsed": false,
    "pycharm": {
     "name": "#%%\n"
    }
   }
  },
  {
   "cell_type": "code",
   "execution_count": null,
   "outputs": [],
   "source": [],
   "metadata": {
    "collapsed": false,
    "pycharm": {
     "name": "#%%\n"
    }
   }
  }
 ],
 "metadata": {
  "kernelspec": {
   "display_name": "Python 3",
   "language": "python",
   "name": "python3"
  },
  "language_info": {
   "codemirror_mode": {
    "name": "ipython",
    "version": 2
   },
   "file_extension": ".py",
   "mimetype": "text/x-python",
   "name": "python",
   "nbconvert_exporter": "python",
   "pygments_lexer": "ipython2",
   "version": "2.7.6"
  }
 },
 "nbformat": 4,
 "nbformat_minor": 0
}