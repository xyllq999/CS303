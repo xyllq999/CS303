{
 "cells": [
  {
   "cell_type": "code",
   "execution_count": 8,
   "metadata": {},
   "outputs": [],
   "source": [
    "import numpy as np\n",
    "import time\n",
    "import math\n",
    "import random"
   ]
  },
  {
   "cell_type": "markdown",
   "metadata": {},
   "source": [
    "# Simulated Annealing\n",
    "\n",
    "Solve the Sudoku problem with Simulated Annealing. You can design your own algorithm or simply refer to [Metaheuristics_can_solve_Sudoku_puzzles](https://www.researchgate.net/publication/220403361_Metaheuristics_can_solve_Sudoku_puzzles). \n",
    "\n",
    "The code provided below starts with making a problem instance and ends by visualizing the running process of SA."
   ]
  },
  {
   "cell_type": "code",
   "execution_count": 9,
   "metadata": {},
   "outputs": [
    {
     "name": "stdout",
     "output_type": "stream",
     "text": [
      "3.56 ms ± 72.4 µs per loop (mean ± std. dev. of 7 runs, 100 loops each)\n",
      "65.1 µs ± 497 ns per loop (mean ± std. dev. of 7 runs, 10000 loops each)\n"
     ]
    },
    {
     "data": {
      "text/plain": [
       "array([[1, 2, 3, 4, 5, 6, 7, 8, 9],\n",
       "       [4, 5, 6, 7, 8, 9, 1, 2, 3],\n",
       "       [7, 8, 9, 1, 2, 3, 4, 5, 6],\n",
       "       [2, 3, 4, 5, 6, 7, 8, 9, 1],\n",
       "       [5, 6, 7, 8, 9, 1, 2, 3, 4],\n",
       "       [8, 9, 1, 2, 3, 4, 5, 6, 7],\n",
       "       [3, 4, 5, 6, 7, 8, 9, 1, 2],\n",
       "       [6, 7, 8, 9, 1, 2, 3, 4, 5],\n",
       "       [9, 1, 2, 3, 4, 5, 6, 7, 8]])"
      ]
     },
     "execution_count": 9,
     "metadata": {},
     "output_type": "execute_result"
    }
   ],
   "source": [
    "# making a problem instance\n",
    "def make_grid_python(n):\n",
    "    grid = np.empty((n**2, n**2), int)\n",
    "    x = 0\n",
    "    for i in range(n):\n",
    "        for j in range(n):\n",
    "            for k in range(n**2):\n",
    "                grid[n*i+j, k] = x%(n**2) + 1\n",
    "                x += 1\n",
    "            x += n\n",
    "        x += 1\n",
    "    return grid\n",
    "\n",
    "def make_grid_numpy(n):\n",
    "    return np.fromfunction(lambda i, j: (i*n+i//n+j)%(n**2)+1, (n**2, n**2), dtype=int)\n",
    "\n",
    "# a comparison between native python and numpy\n",
    "# vary n to see their performances\n",
    "n = 10\n",
    "%timeit make_grid_python(n)\n",
    "%timeit make_grid_numpy(n)\n",
    "\n",
    "# test\n",
    "grid = make_grid_numpy(3)\n",
    "grid"
   ]
  },
  {
   "cell_type": "code",
   "execution_count": 10,
   "metadata": {},
   "outputs": [
    {
     "data": {
      "text/plain": [
       "(array([[9, 2, 3, 4, 3, 6, 8, 6, 9],\n",
       "        [4, 5, 1, 7, 8, 9, 1, 2, 3],\n",
       "        [7, 6, 8, 5, 2, 1, 4, 5, 7],\n",
       "        [2, 3, 4, 3, 6, 7, 4, 9, 1],\n",
       "        [5, 6, 7, 9, 1, 5, 5, 3, 8],\n",
       "        [8, 9, 1, 8, 2, 4, 7, 2, 6],\n",
       "        [3, 4, 5, 1, 9, 8, 4, 1, 2],\n",
       "        [6, 7, 8, 7, 2, 4, 3, 6, 5],\n",
       "        [9, 1, 2, 3, 6, 5, 9, 7, 8]]),\n",
       " 33)"
      ]
     },
     "execution_count": 10,
     "metadata": {},
     "output_type": "execute_result"
    }
   ],
   "source": [
    "class Sudoku:\n",
    "    @classmethod\n",
    "    def create(cls, n, seed=303):\n",
    "        rng = np.random.default_rng(seed)\n",
    "        init_grid = make_grid_numpy(n)\n",
    "\n",
    "        # randomly mask out some cells to create a problem instance\n",
    "        # cells marked by *1* is given and fixed\n",
    "        mask = rng.integers(0, 2, size=init_grid.shape)\n",
    "        grid = init_grid*mask\n",
    "\n",
    "        return cls(n, mask, grid, seed)\n",
    "\n",
    "    def __init__(self, n, mask, grid, seed) -> None:\n",
    "        self.seed = seed\n",
    "        self.mask = mask\n",
    "        self.grid = grid\n",
    "        self.n = n\n",
    "        self.all = set(range(1, n**2+1))\n",
    "\n",
    "    def value(self):\n",
    "        value = 0\n",
    "        for row in range(9):\n",
    "            row_num = set()\n",
    "            for col in range(9):\n",
    "                if self.grid[row][col] not in row_num:\n",
    "                    row_num.add(self.grid[row][col])\n",
    "                else:\n",
    "                    value -= 1\n",
    "        for col in range(9):\n",
    "            col_num = set()\n",
    "            for row in range(9):\n",
    "                if self.grid[row][col] not in col_num:\n",
    "                    col_num.add(self.grid[row][col])\n",
    "                else:\n",
    "                    value -= 1\n",
    "        return value\n",
    "    \n",
    "    def local_search(self):\n",
    "        # TODO: apply your neighborhood search operator to get the next state\n",
    "        \n",
    "        next_state = Sudoku(self.n, self.mask, self.grid, self.seed)\n",
    "\n",
    "        return next_state\n",
    "\n",
    "\n",
    "    def init_solution(self):\n",
    "        rng = np.random.default_rng(self.seed)\n",
    "        n = self.n\n",
    "        grid = self.grid.reshape(n, n, n, n).transpose(0, 2, 1, 3)\n",
    "        for I in np.ndindex(n, n):\n",
    "            idx = grid[I]==0\n",
    "            grid[I][idx] = rng.permutation(list(self.all-set(grid[I].flat)))\n",
    "        return self\n",
    "        \n",
    "    def __repr__(self) -> str:\n",
    "        return self.grid.__repr__()\n",
    "\n",
    "# test\n",
    "sudoku = Sudoku.create(3)\n",
    "sudoku.init_solution()\n",
    "sudoku, sudoku.value()"
   ]
  },
  {
   "cell_type": "code",
   "execution_count": 11,
   "metadata": {},
   "outputs": [],
   "source": [
    "def simulated_annealing(initial:Sudoku, schedule, halt, log_interval=200):\n",
    "    state = initial.init_solution()\n",
    "    t = 0           # time step\n",
    "    T = schedule(t) # temperature\n",
    "    f = [state.value()] # a recording of values\n",
    "    while not halt(T):\n",
    "        T = schedule(t)\n",
    "        new_state = state.local_search()\n",
    "        new_value = new_state.value()\n",
    "        # TODO: implement the replacement here\n",
    "        if new_value > state.value() or (math.exp((new_value - state.value())/T) > random.random()):\n",
    "            state = new_state\n",
    "        # update time and temperature\n",
    "        if t % log_interval == 0:\n",
    "            print(f\"step {t}: T={T}, current_value={state.value()}\")\n",
    "        t += 1\n",
    "        T = schedule(t)\n",
    "    print(f\"step {t}: T={T}, current_value={state.value()}\")\n",
    "    return state, f"
   ]
  },
  {
   "cell_type": "code",
   "execution_count": 12,
   "metadata": {},
   "outputs": [
    {
     "name": "stderr",
     "output_type": "stream",
     "text": [
      "\n",
      "Bad key \"text.kerning_factor\" on line 4 in\n",
      "/opt/anaconda3/envs/python37/lib/python3.7/site-packages/matplotlib/mpl-data/stylelib/_classic_test_patch.mplstyle.\n",
      "You probably need to get an updated matplotlibrc file from\n",
      "http://github.com/matplotlib/matplotlib/blob/master/matplotlibrc.template\n",
      "or from the matplotlib source distribution\n"
     ]
    },
    {
     "name": "stdout",
     "output_type": "stream",
     "text": [
      "step 0: T=1.0, current_value=27\n",
      "step 200: T=0.8186488294786356, current_value=27\n",
      "step 400: T=0.6701859060067401, current_value=27\n",
      "step 600: T=0.5486469074854967, current_value=27\n",
      "step 800: T=0.4491491486100751, current_value=27\n",
      "step 1000: T=0.36769542477096373, current_value=27\n",
      "step 1200: T=0.3010134290933991, current_value=27\n",
      "step 1400: T=0.2464242913846615, current_value=27\n",
      "step 1600: T=0.20173495769715533, current_value=27\n",
      "step 1800: T=0.16515008698369826, current_value=27\n",
      "step 2000: T=0.13519992539749945, current_value=27\n",
      "step 2200: T=0.11068126067226176, current_value=27\n",
      "step 2400: T=0.09060908449456684, current_value=27\n",
      "step 2600: T=0.07417702096160793, current_value=27\n",
      "step 2800: T=0.060724931384432544, current_value=27\n",
      "step 3000: T=0.04971239399803616, current_value=27\n",
      "step 3200: T=0.04069699315707305, current_value=27\n",
      "step 3400: T=0.033316545811337896, current_value=27\n",
      "step 3600: T=0.027274551230723105, current_value=27\n",
      "step 3800: T=0.02232827943958655, current_value=27\n",
      "step 4000: T=0.018279019827489414, current_value=27\n",
      "step 4200: T=0.01496409818579098, current_value=27\n",
      "step 4400: T=0.01225034146400116, current_value=27\n",
      "step 4600: T=0.010028727700218143, current_value=27\n",
      "step 4800: T=0.008210006192943552, current_value=27\n",
      "step 5000: T=0.006721111959865588, current_value=27\n",
      "step 5200: T=0.005502230438738822, current_value=27\n",
      "step 5400: T=0.004504394508195256, current_value=27\n",
      "step 5600: T=0.0036875172916440405, current_value=27\n",
      "step 5800: T=0.003018781714486622, current_value=27\n",
      "step 6000: T=0.0024713221170159817, current_value=27\n",
      "step 6200: T=0.002023144958359797, current_value=27\n",
      "step 6400: T=0.0016562452520268508, current_value=27\n",
      "step 6600: T=0.001355883236901329, current_value=27\n",
      "step 6800: T=0.0011099922247989767, current_value=27\n",
      "step 7000: T=0.0009086938355620688, current_value=27\n",
      "step 7200: T=0.0007439011448373393, current_value=27\n",
      "step 7400: T=0.0006089938014689048, current_value=27\n",
      "step 7600: T=0.0004985520627322635, current_value=27\n",
      "step 7800: T=0.00040813906258992675, current_value=27\n",
      "step 8000: T=0.00033412256585375113, current_value=27\n",
      "step 8200: T=0.0002735290474385717, current_value=27\n",
      "step 8400: T=0.00022392423451399288, current_value=27\n",
      "step 8600: T=0.00018331531247677975, current_value=27\n",
      "step 8800: T=0.00015007086598462605, current_value=27\n",
      "step 9000: T=0.00012285533877715932, current_value=27\n",
      "step 9200: T=0.0001005753792851227, current_value=27\n",
      "step 9400: T=8.233591652613551e-05, current_value=27\n",
      "step 9600: T=6.740420168817147e-05, current_value=27\n",
      "step 9800: T=5.5180370813963455e-05, current_value=27\n",
      "step 10000: T=4.517334597704824e-05, current_value=27\n",
      "step 10200: T=3.6981106807743975e-05, current_value=27\n",
      "step 10400: T=3.0274539800984007e-05, current_value=27\n",
      "step 10600: T=2.4784216571079923e-05, current_value=27\n",
      "step 10800: T=2.028956988545958e-05, current_value=27\n",
      "step 11000: T=1.661003263735646e-05, current_value=27\n",
      "step 11200: T=1.3597783776173799e-05, current_value=27\n",
      "step 11400: T=1.1131809771868262e-05, current_value=27\n",
      "step 11600: T=9.11304303971879e-06, current_value=27\n",
      "step 11800: T=7.460382017454214e-06, current_value=27\n",
      "step 12000: T=6.107433006052354e-06, current_value=27\n",
      "step 12200: T=4.999842881523944e-06, current_value=27\n",
      "step 12400: T=4.093115522536665e-06, current_value=27\n",
      "step 12600: T=3.3508242314454746e-06, current_value=27\n",
      "step 12800: T=2.7431483348614865e-06, current_value=27\n",
      "step 13000: T=2.2456751734206243e-06, current_value=27\n",
      "step 13200: T=1.838419352110026e-06, current_value=27\n",
      "step 13400: T=1.5050198506957442e-06, current_value=27\n",
      "step 13600: T=1.232082739114182e-06, current_value=27\n",
      "step 13800: T=1.008643092196656e-06, current_value=27\n",
      "step 14000: T=8.25724486788504e-07, current_value=27\n",
      "step 14200: T=6.759783845812558e-07, current_value=27\n",
      "step 14400: T=5.533889132903041e-07, current_value=27\n",
      "step 14600: T=4.530311861115616e-07, current_value=27\n",
      "step 14800: T=3.708734502275478e-07, current_value=27\n",
      "step 15000: T=3.03615115913485e-07, current_value=27\n",
      "step 15200: T=2.4855415925459474e-07, current_value=27\n",
      "step 15400: T=2.0347857153582036e-07, current_value=27\n",
      "step 15600: T=1.6657749441178416e-07, current_value=27\n",
      "step 15800: T=1.3636847081769104e-07, current_value=27\n",
      "step 16000: T=1.1163788901269425e-07, current_value=27\n",
      "step 16111: T=9.990352422722691e-08, current_value=27\n"
     ]
    },
    {
     "data": {
      "text/plain": [
       "(array([[ 6, 14,  3,  8,  3,  6,  8,  1,  9, 10, 11,  3, 13,  3, 15, 16],\n",
       "        [13, 11,  7, 10,  5, 16, 11,  2, 13, 14, 15, 16,  1,  2, 14,  4],\n",
       "        [ 9, 16,  1,  2, 13, 14, 15,  9,  1,  6, 12,  4,  9,  5,  7,  6],\n",
       "        [12,  4, 15,  5, 10,  7, 12,  4,  5,  2,  7,  8,  8, 10, 11, 12],\n",
       "        [ 2,  3, 14, 11,  8,  7, 15,  9, 10, 11, 12, 13, 11, 15,  3,  1],\n",
       "        [ 6,  7,  8, 12, 10, 11, 12,  1, 14, 15, 16,  5,  2, 14,  4, 16],\n",
       "        [ 9, 10,  5, 13, 14, 16,  6, 13,  2,  4,  1,  7,  6,  9, 12,  8],\n",
       "        [ 4, 15, 16,  1,  2,  3,  4,  5,  6,  9,  8,  3, 10,  7,  5, 13],\n",
       "        [ 3,  4,  6,  5, 14,  6,  9, 10, 15, 12, 13, 14, 15,  2,  1, 13],\n",
       "        [10,  8,  9, 12, 12, 16, 13,  2,  1, 16, 11,  2,  3, 12,  5,  6],\n",
       "        [11,  1, 13, 14, 15, 11,  1,  7,  3,  4,  5,  6,  7,  8,  9, 10],\n",
       "        [15, 16,  7,  2,  3,  4,  5,  8,  8,  7,  9, 10, 11,  4, 16, 14],\n",
       "        [ 4,  9,  6, 15,  8, 10, 15, 12, 12, 13,  4, 15, 16,  1,  3, 14],\n",
       "        [ 8, 10, 13, 11,  6, 13, 14,  4, 16,  2,  5,  3,  4,  5,  6,  7],\n",
       "        [ 7,  5, 14,  3, 16, 11,  2,  3,  8, 14,  6,  7,  8,  9, 10,  2],\n",
       "        [16,  1,  2, 12,  1,  5,  9,  7,  1,  9, 10, 11, 12, 13, 15, 11]]),\n",
       " 27)"
      ]
     },
     "execution_count": 12,
     "metadata": {},
     "output_type": "execute_result"
    }
   ],
   "source": [
    "import matplotlib.pyplot as plt\n",
    "\n",
    "# define your own schedule and halt condition\n",
    "# run the algorithm on different n with different settings\n",
    "n = 4\n",
    "solution, record = simulated_annealing(\n",
    "    initial=Sudoku.create(n), \n",
    "    schedule=lambda t: 0.999**t, \n",
    "    halt=lambda T: T<1e-7\n",
    ")\n",
    "solution, solution.value()"
   ]
  },
  {
   "cell_type": "code",
   "execution_count": 13,
   "metadata": {},
   "outputs": [
    {
     "data": {
      "text/plain": [
       "Text(0,0.5,'value')"
      ]
     },
     "execution_count": 13,
     "metadata": {},
     "output_type": "execute_result"
    },
    {
     "data": {
      "image/png": "[encoded data removed]",
      "text/plain": [
       "<Figure size 432x288 with 1 Axes>"
      ]
     },
     "metadata": {
      "needs_background": "light"
     },
     "output_type": "display_data"
    }
   ],
   "source": [
    "# visualize the curve\n",
    "plt.plot(record)\n",
    "plt.xlabel(\"time step\")\n",
    "plt.ylabel(\"value\")"
   ]
  },
  {
   "cell_type": "code",
   "execution_count": null,
   "metadata": {
    "pycharm": {
     "name": "#%%\n"
    }
   },
   "outputs": [],
   "source": []
  }
 ],
 "metadata": {
  "interpreter": {
   "hash": "dc1b36ca92b83d5ef109eaced03555f57acee2abd9fee9dc0fa9bba105170b52"
  },
  "kernelspec": {
   "display_name": "Python 3 (ipykernel)",
   "language": "python",
   "name": "python3"
  },
  "language_info": {
   "codemirror_mode": {
    "name": "ipython",
    "version": 3
   },
   "file_extension": ".py",
   "mimetype": "text/x-python",
   "name": "python",
   "nbconvert_exporter": "python",
   "pygments_lexer": "ipython3",
   "version": "3.7.11"
  }
 },
 "nbformat": 4,
 "nbformat_minor": 2
}
