{
 "cells": [
  {
   "cell_type": "markdown",
   "metadata": {},
   "source": [
    "This document is used as a brief introduction for students to use scikit-learn in machine learning scenarios."
   ]
  },
  {
   "cell_type": "markdown",
   "metadata": {},
   "source": [
    "# 1. Scikit-learn: A Brief Introduction\n",
    "\n",
    "`sklearn` (short for scikit-learn) is a module basing on `numpy` and `scipy`.\n",
    "This project is initialized by `David Cournapeau` in 2007.\n",
    "After years development by the community, it is already one of the most powerful package in Python.\n",
    "\n",
    "Basically, this package contains all the well-used tools in a complete data mining or machine learning process.\n",
    "\n",
    "Link to the project: [Github/scikit-learn](https://github.com/scikit-learn/scikit-learn)"
   ]
  },
  {
   "cell_type": "markdown",
   "metadata": {},
   "source": [
    "## 1.1. What does sklearn contains?\n",
    "\n",
    "As the picture shows, this package contains all the well-used tools in a complete data mining or machine learning process.\n",
    "\n",
    "![](ml_map.png)\n",
    "\n",
    "## 1.2. Installation\n",
    "\n",
    "```python\n",
    "# pip3 install -U scikit-learn\n",
    "```\n",
    "In a conda environment, sklearn is pre-installed."
   ]
  },
  {
   "cell_type": "markdown",
   "metadata": {},
   "source": [
    "# 2. Procedures for a classification task: an example\n",
    "\n",
    "In this section, we use a classification problem as an example to reveal a complete machine learning process by using `sklearn`.\n",
    "Several very basic functions are introduced.\n",
    "We won't include too many details for a specific function (parameters, structures, etc.), and if you are interested, please check the relevant documents.\n",
    "\n",
    "## 2.1. Before the training (Data)\n",
    "\n",
    "### 2.1.1. Collect data\n",
    "\n",
    "`sklearn` contains many built-in datasets and tools to load data.\n",
    "It is convenient to use the functions in `sklearn.datasets`.\n",
    "\n",
    "Here we take iris dataset as an example."
   ]
  },
  {
   "cell_type": "code",
   "execution_count": 1,
   "metadata": {},
   "outputs": [],
   "source": [
    "from sklearn.datasets import load_iris\n",
    "\n",
    "iris = load_iris()\n",
    "X = iris.data\n",
    "y = iris.target"
   ]
  },
  {
   "cell_type": "markdown",
   "metadata": {},
   "source": [
    "For the data we collected or created by ourself, we need to make sure it satisfies the requirement of dimensionality.\n",
    "For normal data vectors, `X` should have a dimension of (m,n), and `Y` should have a dimension of (m,),\n",
    "where m is the number of data instances, and n is the number of features."
   ]
  },
  {
   "cell_type": "markdown",
   "metadata": {},
   "source": [
    "### 2.1.2. Data preprocessing\n",
    "\n",
    "The dataset usually needs to be processed before training, including but not limited to:\n",
    "- Standardization/Normalization\n",
    "- Missing value completion\n",
    "- Features processing / Dimension selection\n",
    "\n",
    "For this iris dataset, we need to normalize it.\n",
    "There is corresponding module in the sklearn.\n",
    "\n",
    "Besides, we only pick two dimensions and two classes out of the three."
   ]
  },
  {
   "cell_type": "code",
   "execution_count": 2,
   "metadata": {},
   "outputs": [
    {
     "data": {
      "text/plain": [
       "<matplotlib.collections.PathCollection at 0x7fc5614c6350>"
      ]
     },
     "execution_count": 2,
     "metadata": {},
     "output_type": "execute_result"
    },
    {
     "data": {
      "image/png": "[encoded data removed]",
      "text/plain": [
       "<Figure size 432x288 with 1 Axes>"
      ]
     },
     "metadata": {
      "needs_background": "light"
     },
     "output_type": "display_data"
    }
   ],
   "source": [
    "from sklearn.preprocessing import StandardScaler\n",
    "import matplotlib.pyplot as plt\n",
    "\n",
    "X_2d = X[:, :2]\n",
    "X_2d = X_2d[y > 0]\n",
    "y_2d = y[y > 0]\n",
    "y_2d -= 1\n",
    "\n",
    "scaler = StandardScaler()\n",
    "X = scaler.fit_transform(X)\n",
    "X_2d = scaler.fit_transform(X_2d)\n",
    "\n",
    "# Visualization\n",
    "plt.scatter(X_2d[:, 0], X_2d[:, 1], c=y_2d, cmap=plt.cm.RdBu_r)"
   ]
  },
  {
   "cell_type": "markdown",
   "metadata": {},
   "source": [
    "### 2.1.3. Construct training set and test set\n",
    "\n",
    "Some benchmark datasets provide their train/test splitting.\n",
    "However, if the data is not split yet, we need to manually divide it."
   ]
  },
  {
   "cell_type": "code",
   "execution_count": 3,
   "metadata": {},
   "outputs": [],
   "source": [
    "from sklearn.model_selection import train_test_split\n",
    "\n",
    "X_train, X_test, y_train, y_test = train_test_split(X_2d, y_2d, test_size=0.3, random_state=2)"
   ]
  },
  {
   "cell_type": "markdown",
   "metadata": {},
   "source": [
    "## 2.2. In the training (Model)\n",
    "\n",
    "### 2.2.1. Choose model to use\n",
    "\n",
    "This article only discuss a classification problem.\n",
    "This is a supervise learning setting.\n",
    "\n",
    "sklearn contains many built-in models, eg. LinearRegression, SVC, LinearSVC, DecisionTreeClassifier, etc.\n",
    "\n",
    "Here we took LinearRegression as an example."
   ]
  },
  {
   "cell_type": "code",
   "execution_count": 4,
   "metadata": {},
   "outputs": [
    {
     "data": {
      "text/plain": [
       "LogisticRegression()"
      ]
     },
     "execution_count": 4,
     "metadata": {},
     "output_type": "execute_result"
    }
   ],
   "source": [
    "from sklearn.linear_model import LogisticRegression\n",
    "\n",
    "clf_lr = LogisticRegression()\n",
    "clf_lr.fit(X_train, y_train)"
   ]
  },
  {
   "cell_type": "markdown",
   "metadata": {},
   "source": [
    "### 2.2.2. Model parameter tuning and training (A example, for SVC)\n",
    "\n",
    "Different models use different hyper-parameters.\n",
    "Those parameters influence the performance of the models very much.\n",
    "Normally, we use cross validation to tune the hyperparameter and train the models.\n",
    "\n",
    "Here we introduce a built-in parameter selection module.\n",
    "Here we still use SVC as an example.\n",
    "We search for two hyper-parameter C and gamma."
   ]
  },
  {
   "cell_type": "code",
   "execution_count": 5,
   "metadata": {},
   "outputs": [
    {
     "name": "stdout",
     "output_type": "stream",
     "text": [
      "The best parameters are {'C': 1.0, 'gamma': 0.1} with a score of 0.97\n"
     ]
    }
   ],
   "source": [
    "'''\n",
    "This part isn't used with Logistic Regression.\n",
    "'''\n",
    "\n",
    "import numpy as np\n",
    "from sklearn.svm import SVC\n",
    "from sklearn.model_selection import StratifiedShuffleSplit\n",
    "from sklearn.model_selection import GridSearchCV\n",
    "\n",
    "C_range = np.logspace(-2, 10, 13)\n",
    "gamma_range = np.logspace(-9, 3, 13)\n",
    "param_grid = dict(gamma=gamma_range, C=C_range)\n",
    "\n",
    "cv = StratifiedShuffleSplit(n_splits=5, test_size=0.2, random_state=42)\n",
    "clf_svc_grid = GridSearchCV(SVC(), param_grid=param_grid, cv=cv)\n",
    "clf_svc_grid.fit(X, y)\n",
    "\n",
    "print(\"The best parameters are %s with a score of %0.2f\" % (clf_svc_grid.best_params_, clf_svc_grid.best_score_))"
   ]
  },
  {
   "cell_type": "markdown",
   "metadata": {},
   "source": [
    "## 2.3. After the training (Performance)\n",
    "\n",
    "### 2.3.1. Evaluate the performance\n",
    "\n",
    "After the training, we need to evaluate the performance on the test set.\n",
    "Common used evaluation methods: accuracy/recall/precision/F1/ROC/AUC etc.\n",
    "\n",
    "For a trained model, we could use score function to evaluate.\n",
    "It would return an accuracy score by default.\n"
   ]
  },
  {
   "cell_type": "code",
   "execution_count": 6,
   "metadata": {},
   "outputs": [
    {
     "name": "stdout",
     "output_type": "stream",
     "text": [
      "0.6\n"
     ]
    }
   ],
   "source": [
    "score = clf_lr.score(X_test, y_test)\n",
    "print(score)"
   ]
  },
  {
   "cell_type": "markdown",
   "metadata": {},
   "source": [
    "sklearn also provides classification_report, which contains more information."
   ]
  },
  {
   "cell_type": "code",
   "execution_count": 7,
   "metadata": {},
   "outputs": [
    {
     "name": "stdout",
     "output_type": "stream",
     "text": [
      "              precision    recall  f1-score   support\n",
      "\n",
      "           0       0.67      0.67      0.67        18\n",
      "           1       0.50      0.50      0.50        12\n",
      "\n",
      "    accuracy                           0.60        30\n",
      "   macro avg       0.58      0.58      0.58        30\n",
      "weighted avg       0.60      0.60      0.60        30\n",
      "\n"
     ]
    }
   ],
   "source": [
    "from sklearn.metrics import classification_report\n",
    "\n",
    "y_pred = clf_lr.predict(X_test)\n",
    "print(classification_report(y_test, y_pred))"
   ]
  },
  {
   "cell_type": "markdown",
   "metadata": {},
   "source": [
    "\n",
    "### 2.3.2. Visualize the performance\n",
    "\n",
    "Sometimes we also need to visualize to see the performance.\n",
    "Here we usually add the label margins to the initial visualization.\n",
    "Please check the document of `matplotlib` for more information."
   ]
  },
  {
   "cell_type": "code",
   "execution_count": 8,
   "metadata": {},
   "outputs": [
    {
     "name": "stderr",
     "output_type": "stream",
     "text": [
      "/opt/anaconda3/envs/python37/lib/python3.7/site-packages/ipykernel_launcher.py:12: MatplotlibDeprecationWarning: shading='flat' when X and Y have the same dimensions as C is deprecated since 3.3.  Either specify the corners of the quadrilaterals with X and Y, or pass shading='auto', 'nearest' or 'gouraud', or set rcParams['pcolor.shading'].  This will become an error two minor releases later.\n",
      "  if sys.path[0] == '':\n"
     ]
    },
    {
     "data": {
      "text/plain": [
       "(-3.0, 3.0, -3.0, 3.0)"
      ]
     },
     "execution_count": 8,
     "metadata": {},
     "output_type": "execute_result"
    },
    {
     "data": {
      "image/png": "[encoded data removed]",
      "text/plain": [
       "<Figure size 576x432 with 1 Axes>"
      ]
     },
     "metadata": {},
     "output_type": "display_data"
    }
   ],
   "source": [
    "import matplotlib.pyplot as plt\n",
    "\n",
    "plt.figure(figsize=(8, 6))\n",
    "xx, yy = np.meshgrid(np.linspace(-3, 3, 200), np.linspace(-3, 3, 200))\n",
    "\n",
    "Z = clf_lr.decision_function(np.c_[xx.ravel(), yy.ravel()])\n",
    "Z = Z.reshape(xx.shape)\n",
    "\n",
    "# visualize decision function for these parameters\n",
    "plt.title('Decision boundary of the LogisticRegression')\n",
    "# visualize parameter's effect on decision function\n",
    "plt.pcolormesh(xx, yy, -Z, cmap=plt.cm.RdBu)\n",
    "plt.scatter(X_2d[:, 0], X_2d[:, 1], c=y_2d, cmap=plt.cm.RdBu_r)\n",
    "plt.xticks(())\n",
    "plt.yticks(())\n",
    "plt.axis('tight')"
   ]
  },
  {
   "cell_type": "code",
   "execution_count": null,
   "metadata": {
    "pycharm": {
     "name": "#%%\n"
    }
   },
   "outputs": [],
   "source": []
  }
 ],
 "metadata": {
  "interpreter": {
   "hash": "dddc4b044f07c68551a032b30c77cbc35ec19dbf0b7403adb713aef2dd548184"
  },
  "kernelspec": {
   "display_name": "Python 3 (ipykernel)",
   "language": "python",
   "name": "python3"
  },
  "language_info": {
   "codemirror_mode": {
    "name": "ipython",
    "version": 3
   },
   "file_extension": ".py",
   "mimetype": "text/x-python",
   "name": "python",
   "nbconvert_exporter": "python",
   "pygments_lexer": "ipython3",
   "version": "3.7.11"
  }
 },
 "nbformat": 4,
 "nbformat_minor": 2
}