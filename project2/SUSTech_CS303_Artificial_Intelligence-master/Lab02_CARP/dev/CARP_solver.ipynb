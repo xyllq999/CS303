{
 "cells": [
  {
   "cell_type": "code",
   "execution_count": 390,
   "metadata": {},
   "outputs": [],
   "source": [
    "import numpy as np\n",
    "import graph\n",
    "import digraph\n",
    "from graph import Graph\n",
    "from digraph import DiGraph\n",
    "from collections import defaultdict\n",
    "from itertools import tee, izip\n",
    "import copy\n",
    "import random\n",
    "from random import shuffle\n",
    "import time"
   ]
  },
  {
   "cell_type": "markdown",
   "metadata": {},
   "source": [
    "## Preparation Functions/Classes"
   ]
  },
  {
   "cell_type": "code",
   "execution_count": 391,
   "metadata": {},
   "outputs": [],
   "source": [
    "def read_instance_file(filename):\n",
    "    '''\n",
    "    ::param: filename: string, filename that indicates the location of instance data file\n",
    "    ::return value: (specification, data)\n",
    "    :: specification: dict, specification of the instance\n",
    "    :: data: the numpy array with a list of edges and their cost, demand\n",
    "    :: data: [vertex1 vertex2 cost demand]\n",
    "    '''\n",
    "    fd = open(inputfile)\n",
    "    content = fd.readlines()\n",
    "    content = [x.strip() for x in content] \n",
    "    specification = dict()\n",
    "    for i in range(8):\n",
    "        line = content[i].split(':')\n",
    "        specification[line[0].strip()] = line[1].strip()\n",
    "    # print(specification)\n",
    "    data = list()\n",
    "    for line in content[9:-1]:\n",
    "        tmp = line.split()\n",
    "        data.append([int(x.strip()) for x in tmp])\n",
    "    data = np.array(data)\n",
    "    fd.close()\n",
    "    return specification, data"
   ]
  },
  {
   "cell_type": "code",
   "execution_count": 392,
   "metadata": {},
   "outputs": [],
   "source": [
    "'''\n",
    "filelist CARP_samples\n",
    "egl-e1-A.dat  gdb10.dat  val1A.dat  val7A.dat\n",
    "egl-s1-A.dat  gdb1.dat   val4A.dat\n",
    "'''\n",
    "inputfile = '../CARP_samples/egl-s1-A.dat'"
   ]
  },
  {
   "cell_type": "markdown",
   "metadata": {},
   "source": [
    "## Read the graph into Data Structure"
   ]
  },
  {
   "cell_type": "code",
   "execution_count": 393,
   "metadata": {},
   "outputs": [],
   "source": [
    "spec, data = read_instance_file(inputfile)\n",
    "gf = Graph()\n",
    "gf.load_from_data(data.tolist())"
   ]
  },
  {
   "cell_type": "code",
   "execution_count": 394,
   "metadata": {},
   "outputs": [
    {
     "name": "stdout",
     "output_type": "stream",
     "text": [
      "{'NON-REQUIRED EDGES': '115', 'VEHICLES': '7', 'CAPACITY': '210', 'NAME': 'egl-s1-A', 'TOTAL COST OF REQUIRED EDGES': '1394', 'REQUIRED EDGES': '75', 'VERTICES': '140', 'DEPOT': '1'}\n"
     ]
    }
   ],
   "source": [
    "print(spec)"
   ]
  },
  {
   "cell_type": "code",
   "execution_count": 395,
   "metadata": {},
   "outputs": [],
   "source": [
    "capacity = int(spec['CAPACITY'])\n",
    "depot = int(spec['DEPOT'])"
   ]
  },
  {
   "cell_type": "markdown",
   "metadata": {},
   "source": [
    "## Solution-related\n",
    "\n",
    "### output example\n",
    "\n",
    "```\n",
    "s 0,(1,2),(2,4),(4,1),0,0,(4,3),(3,1),0\n",
    "q 15\n",
    "```"
   ]
  },
  {
   "cell_type": "code",
   "execution_count": 396,
   "metadata": {},
   "outputs": [],
   "source": [
    "def solution_verify(partitioned_solution, graph):\n",
    "    loadlist = list()\n",
    "    cost_total = 0\n",
    "    costlist = list()\n",
    "    for route in partitioned_solution:\n",
    "        # costlist.append(route)\n",
    "        load = 0\n",
    "        prev_task = None\n",
    "        cost_total += graph.get_shortest_path(route[0][0], depot)[1]\n",
    "        # costlist.append(cost_total)\n",
    "        for task in route:\n",
    "            #print(task)\n",
    "            if prev_task is not None:\n",
    "                cost_total += graph.get_shortest_path(prev_task[1], task[0])[1]\n",
    "                # costlist.append(cost_total)\n",
    "            load += graph[task[0]][task[1]]['demand']\n",
    "            cost_total += graph[task[0]][task[1]]['cost']\n",
    "            # costlist.append(cost_total)\n",
    "            prev_task = task\n",
    "        loadlist.append(load)\n",
    "        cost_total += graph.get_shortest_path(route[-1][1], depot)[1]\n",
    "        costlist.append(cost_total)\n",
    "    return loadlist, costlist,cost_total,sum(loadlist)"
   ]
  },
  {
   "cell_type": "code",
   "execution_count": 397,
   "metadata": {},
   "outputs": [],
   "source": [
    "loadlist, costlist, cost_total, load_total = solution_verify(partitioned2, gf)\n",
    "#print(load_total, cost_total)"
   ]
  },
  {
   "cell_type": "code",
   "execution_count": 400,
   "metadata": {},
   "outputs": [],
   "source": [
    "output = 's 0,(1,116),(116,117),(117,2),(117,119),(118,114),(114,113),(113,112),(112,107),(107,108),(107,110),(110,111),(105,104),0,0,(112,110),(107,106),(106,105),(104,102),(66,67),(67,68),(67,69),(69,71),(71,72),(72,73),(73,44),(44,45),(45,34),0,0,(87,86),(86,85),(85,84),(84,82),(82,80),(80,79),(79,78),(78,77),(77,46),(46,43),(43,37),(37,36),(36,38),(38,39),(39,40),0,0,(108,109),0,0,(66,62),(62,63),(63,64),(64,65),(56,55),(55,54),(55,140),(49,48),0,0,(124,126),(126,130),(43,44),(34,139),(139,33),(33,11),(11,12),(12,13),(20,22),0,0,(95,96),(96,97),(97,98),(140,49),(11,27),(27,28),(28,30),(30,32),(28,29),(27,25),(25,24),(24,20),0,0,(11,8),(8,6),(6,5),(8,9),(13,14),0\\nq 6201'"
   ]
  },
  {
   "cell_type": "code",
   "execution_count": 404,
   "metadata": {},
   "outputs": [
    {
     "data": {
      "text/plain": [
       "([210, 210, 208, 103, 106, 210, 208, 139],\n",
       " [498, 1142, 1784, 2226, 2907, 3986, 5183, 6201],\n",
       " 6201,\n",
       " 1394)"
      ]
     },
     "execution_count": 404,
     "metadata": {},
     "output_type": "execute_result"
    }
   ],
   "source": [
    "solution =string_extract(output)\n",
    "solution_verify(solution[0],gf)"
   ]
  },
  {
   "cell_type": "code",
   "execution_count": 398,
   "metadata": {},
   "outputs": [],
   "source": [
    "import re\n",
    "class InputError(Exception):\n",
    "    def __init__(self, message):\n",
    "        self.msg = message\n",
    "\n",
    "def string_extract(result_string):\n",
    "    splitted = result_string.splitlines()\n",
    "    solution = None\n",
    "    solution = list()\n",
    "    result_cost = 0\n",
    "    try:\n",
    "        for line in splitted:\n",
    "            if len(line)<3:\n",
    "                raise InputError('Length not right')\n",
    "            if line[0] == 's':\n",
    "                line = line[2:]\n",
    "                pattern_route = r'(\\([\\d]+,[\\d]+\\),?)+'\n",
    "                pattern_task = r'\\(([\\d]+),([\\d]+)\\)'\n",
    "                for m in re.finditer(pattern_route, line):\n",
    "                    route = list()\n",
    "                    for m_sub in re.finditer(pattern_task, m.group(0)):\n",
    "                        route.append((int(m_sub.group(1)), int(m_sub.group(2))))\n",
    "                    solution.append(route)\n",
    "            elif line[0] == 'q':\n",
    "                quality = line.split(' ')\n",
    "                try:\n",
    "                    result_cost = int(quality[1])\n",
    "                    # print(result_cost)\n",
    "                except ValueError:\n",
    "                    #Handle the exception\n",
    "                    raise InputError('Please enter an integer')\n",
    "    except InputError as err:\n",
    "        print(err.msg)\n",
    "    return solution, result_cost"
   ]
  }
 ],
 "metadata": {
  "kernelspec": {
   "display_name": "Python 2",
   "language": "python",
   "name": "python2"
  },
  "language_info": {
   "codemirror_mode": {
    "name": "ipython",
    "version": 2
   },
   "file_extension": ".py",
   "mimetype": "text/x-python",
   "name": "python",
   "nbconvert_exporter": "python",
   "pygments_lexer": "ipython2",
   "version": "2.7.12"
  }
 },
 "nbformat": 4,
 "nbformat_minor": 2
}
