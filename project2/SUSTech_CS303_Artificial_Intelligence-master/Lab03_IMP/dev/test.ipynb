{
 "cells": [
  {
   "cell_type": "code",
   "execution_count": 62,
   "metadata": {},
   "outputs": [],
   "source": [
    "import argparse\n",
    "import sys\n",
    "import random\n",
    "import heapq\n",
    "\n",
    "sys.path.insert(0,'..')\n",
    "from utils.digraph import DiGraph\n",
    "from utils.esitimater import Estimater\n",
    "\n",
    "class InfluenceNetwork(DiGraph):\n",
    "    '''\n",
    "    Inheritance from Digraph\n",
    "    '''\n",
    "    def __init__(self):\n",
    "        DiGraph.__init__(self)\n",
    "        self.spec = {'nodes':-1, 'edges':-1}\n",
    "    \n",
    "    def load_from_file(self, filed):\n",
    "        '''\n",
    "        load from the file\n",
    "        '''\n",
    "        lines = filed.readlines()\n",
    "        self.spec['nodes'] = int(lines[0][0])\n",
    "        self.spec['edges'] = int(lines[0][1])\n",
    "        for line in lines[1:]:\n",
    "            data = line.split()\n",
    "            if len(data) == 3:\n",
    "                self.add_weighted_edge((int(data[0]), int(data[1])), float(data[2]))\n",
    "                # print((int(data[0]), int(data[1])), float(data[2]))\n",
    "\n",
    "def loadseeds(filed):\n",
    "    '''\n",
    "    load seeds from the file\n",
    "    '''\n",
    "    seeds = set()\n",
    "    lines = filed.readlines()\n",
    "    for line in lines:\n",
    "        data = line.split()\n",
    "        if len(data) == 1:\n",
    "            seeds.add(int(data[0]))\n",
    "    return seeds"
   ]
  },
  {
   "cell_type": "code",
   "execution_count": 67,
   "metadata": {},
   "outputs": [
    {
     "name": "stdout",
     "output_type": "stream",
     "text": [
      "set([56, 58, 53, 62])\n",
      "62\n"
     ]
    }
   ],
   "source": [
    "network = open('../network.txt')\n",
    "seed_f = open('../seeds.txt')\n",
    "\n",
    "graph = InfluenceNetwork()\n",
    "graph.load_from_file(network)\n",
    "seeds = loadseeds(seed_f)\n",
    "print(seeds)\n",
    "print(len(graph.vertices()))\n",
    "\n",
    "network.close()\n",
    "seed_f.close()"
   ]
  },
  {
   "cell_type": "code",
   "execution_count": 57,
   "metadata": {},
   "outputs": [
    {
     "data": {
      "text/plain": [
       "{'weight': 0.333333}"
      ]
     },
     "execution_count": 57,
     "metadata": {},
     "output_type": "execute_result"
    }
   ],
   "source": [
    "graph[9][4]"
   ]
  },
  {
   "cell_type": "code",
   "execution_count": 4,
   "metadata": {},
   "outputs": [
    {
     "data": {
      "text/plain": [
       "{9: {'weight': 0.333333}, 15: {'weight': 0.333333}, 60: {'weight': 0.333333}}"
      ]
     },
     "execution_count": 4,
     "metadata": {},
     "output_type": "execute_result"
    }
   ],
   "source": [
    "graph.inverse[4]"
   ]
  },
  {
   "cell_type": "code",
   "execution_count": 5,
   "metadata": {},
   "outputs": [],
   "source": [
    "import random\n",
    "from __future__ import division"
   ]
  },
  {
   "cell_type": "code",
   "execution_count": 83,
   "metadata": {},
   "outputs": [],
   "source": [
    "def ic_simulate():\n",
    "    activated = set()\n",
    "    next_layer = set(seeds)\n",
    "    while next_layer:\n",
    "        new_layer = set()\n",
    "        for node in next_layer:\n",
    "            for linked_node, value  in graph[node].iteritems():\n",
    "                rnd = random.random()\n",
    "                if linked_node not in activated and rnd < value['weight']:\n",
    "                    new_layer.add(linked_node)\n",
    "        activated = set.union(activated, next_layer)\n",
    "        print(activated)\n",
    "        next_layer = new_layer\n",
    "    return activated\n",
    "\n",
    "def lt_simulate():\n",
    "    activated = set(seeds)\n",
    "    threshold = dict()\n",
    "    for node in graph.vertices():\n",
    "        threshold[node] = random.random()\n",
    "    \n",
    "    def get_nextround(changed_vertices):\n",
    "        next_round = set()\n",
    "        for vertex in changed_vertices:\n",
    "            next_round = set.union(next_round, set(graph[vertex].keys()))\n",
    "        return next_round\n",
    "    next_round = get_nextround(activated)\n",
    "    while len(next_round) > 0:\n",
    "        changed_vertices = set()\n",
    "        for node in next_round:\n",
    "            indicator = 0 \n",
    "            for linked_node, value  in graph.inverse[node].iteritems():\n",
    "                if linked_node in activated:\n",
    "                    indicator += graph.inverse[node][linked_node]['weight']\n",
    "            if indicator > threshold[node]:\n",
    "                changed_vertices.add(node)\n",
    "                activated.add(node)\n",
    "        next_round = get_nextround(changed_vertices)\n",
    "        # print(next_round)\n",
    "    return activated"
   ]
  },
  {
   "cell_type": "code",
   "execution_count": 11,
   "metadata": {},
   "outputs": [
    {
     "name": "stdout",
     "output_type": "stream",
     "text": [
      "set([1, 12, 14, 15])\n",
      "set([1, 6, 7, 12, 14, 15])\n"
     ]
    },
    {
     "data": {
      "text/plain": [
       "{1, 6, 7, 12, 14, 15}"
      ]
     },
     "execution_count": 11,
     "metadata": {},
     "output_type": "execute_result"
    }
   ],
   "source": [
    "ic_simulate()"
   ]
  },
  {
   "cell_type": "code",
   "execution_count": 68,
   "metadata": {},
   "outputs": [
    {
     "data": {
      "text/plain": [
       "{53, 56, 58, 62}"
      ]
     },
     "execution_count": 68,
     "metadata": {},
     "output_type": "execute_result"
    }
   ],
   "source": [
    "seeds"
   ]
  },
  {
   "cell_type": "code",
   "execution_count": 84,
   "metadata": {},
   "outputs": [
    {
     "name": "stdout",
     "output_type": "stream",
     "text": [
      "(31.8443, 2.0672390460968018)\n"
     ]
    }
   ],
   "source": [
    "import time\n",
    "start = time.time()\n",
    "cnt = 0\n",
    "for _ in range(10000):\n",
    "    cnt+=len(lt_simulate())\n",
    "print(cnt/10000, time.time() - start)"
   ]
  },
  {
   "cell_type": "code",
   "execution_count": 48,
   "metadata": {},
   "outputs": [],
   "source": [
    "from __future__ import division\n",
    "def ic_evaluate(seeds):\n",
    "    cnt = 0\n",
    "    for _ in range(10000):\n",
    "        activated = set()\n",
    "        next_layer = seeds\n",
    "        while next_layer:\n",
    "            new_layer = set()\n",
    "            for node in next_layer:\n",
    "                for linked_node, value  in graph[node].iteritems():\n",
    "                    rnd = random.random()\n",
    "                    if linked_node not in activated and rnd < value['weight']:\n",
    "                        new_layer.add(linked_node)\n",
    "            activated = set.union(activated, next_layer)\n",
    "            next_layer = new_layer\n",
    "        cnt += len(activated)\n",
    "    return cnt/10000"
   ]
  },
  {
   "cell_type": "code",
   "execution_count": 42,
   "metadata": {},
   "outputs": [],
   "source": [
    "num_k = 10\n",
    "\n",
    "def ic_celf():\n",
    "    '''\n",
    "    implementation of CELF\n",
    "    note that the first element in the tuple is negative form of the the spread contribution\n",
    "    '''\n",
    "    \n",
    "    state_list = list()\n",
    "    cur_spread = 0\n",
    "    cur_set = set()\n",
    "    # init the heap, note this is a minheap\n",
    "    for nodeid in graph.vertices():\n",
    "        new_spread = ic_evaluate(set.union(cur_set, {nodeid}))\n",
    "        state_list.append((-new_spread, nodeid))\n",
    "    heapq.heapify(state_list)\n",
    "    inserted_node = heapq.heappop(state_list)\n",
    "    cur_set.add(inserted_node[1])\n",
    "    cur_spread = -inserted_node[0]\n",
    "    cur_max = 1\n",
    "    count = 0\n",
    "    while len(cur_set) < num_k:\n",
    "        next_node = heapq.heappop(state_list)\n",
    "        # print(\"pop\", next_node)\n",
    "        if next_node[0] < cur_max:\n",
    "            count += 1\n",
    "            new_spread = ic_evaluate(set.union(cur_set, {next_node[1]}))\n",
    "            # print(next_node[1], new_spread, cur_spread)\n",
    "            diff = new_spread - cur_spread\n",
    "            next_node = (-diff, next_node[1])\n",
    "            # print(\"new\", next_node)\n",
    "            if next_node[0] < cur_max:\n",
    "                cur_max = next_node[0]\n",
    "                # print(\"max\", cur_max)\n",
    "            heapq.heappush(state_list, next_node)\n",
    "        else:\n",
    "            inserted_node = next_node\n",
    "            # print(\"select\", inserted_node)\n",
    "            cur_set.add(inserted_node[1])\n",
    "            cur_spread += -inserted_node[0]\n",
    "            cur_max = 1\n",
    "    return cur_set, cur_spread"
   ]
  },
  {
   "cell_type": "code",
   "execution_count": 43,
   "metadata": {
    "scrolled": true
   },
   "outputs": [
    {
     "name": "stdout",
     "output_type": "stream",
     "text": [
      "(set([60, 48, 50, 52, 53, 56, 58, 28, 61, 62]), 43.9829)\n",
      "22.2927880287\n"
     ]
    }
   ],
   "source": [
    "import time\n",
    "st = time.time()\n",
    "print(ic_celf())\n",
    "print(time.time()-st)"
   ]
  },
  {
   "cell_type": "code",
   "execution_count": 33,
   "metadata": {},
   "outputs": [
    {
     "data": {
      "text/plain": [
       "23.3224"
      ]
     },
     "execution_count": 33,
     "metadata": {},
     "output_type": "execute_result"
    }
   ],
   "source": [
    "ic_evaluate({56, 48, 50, 53})"
   ]
  },
  {
   "cell_type": "code",
   "execution_count": 31,
   "metadata": {},
   "outputs": [
    {
     "data": {
      "text/plain": [
       "[(0, 10), (5, 7), (3, 3), (1, 2)]"
      ]
     },
     "execution_count": 31,
     "metadata": {},
     "output_type": "execute_result"
    }
   ],
   "source": [
    "x = {1:2,3:3,5:7,0:10}\n",
    "sorted(x.iteritems(), key=lambda (k,v):v, reverse=True)"
   ]
  },
  {
   "cell_type": "code",
   "execution_count": 82,
   "metadata": {},
   "outputs": [],
   "source": [
    "from collections import defaultdict\n",
    "\n",
    "def degree_discount():\n",
    "    seed_set = set()\n",
    "    full_set = set(graph.vertices())\n",
    "    degree = defaultdict(dict)\n",
    "    discount_degree = defaultdict(dict)\n",
    "    t_selected = defaultdict(dict)\n",
    "    for vertex in full_set:\n",
    "        degree[vertex] = len(graph[vertex])\n",
    "        discount_degree[vertex] = degree[vertex]\n",
    "        t_selected[vertex] = 0\n",
    "    for _ in range(num_k):\n",
    "        max_vertex = sorted(discount_degree.iteritems(), key=lambda (k,v):v, reverse=True)[0][0]\n",
    "        del discount_degree[max_vertex]\n",
    "        seed_set.add(max_vertex)\n",
    "        full_set.remove(max_vertex)\n",
    "        for vertex in graph[max_vertex].keys():\n",
    "            if vertex in full_set:\n",
    "                t_selected[vertex] += 1\n",
    "                #discount_degree[vertex] = degree[vertex] - t_selected[vertex]\n",
    "                # how much is the p? average?\n",
    "                discount_degree[vertex] = degree[vertex] - 2*t_selected[vertex] -\\\n",
    "                 (degree[vertex]-t_selected[vertex])*t_selected[vertex]*0.75\n",
    "                print (vertex, discount_degree[vertex])\n",
    "    return seed_set"
   ]
  },
  {
   "cell_type": "code",
   "execution_count": 83,
   "metadata": {},
   "outputs": [
    {
     "name": "stdout",
     "output_type": "stream",
     "text": [
      "(51, 0.25)\n",
      "(5, -1.25)\n",
      "(12, -1.25)\n",
      "(46, 0.75)\n",
      "(19, -1.0)\n",
      "(22, -1.0)\n",
      "(24, -1.25)\n",
      "(25, -0.5)\n",
      "(30, -0.25)\n",
      "(6, -1.25)\n",
      "(7, -1.25)\n",
      "(40, -1.0)\n",
      "(10, -0.75)\n",
      "(14, -0.5)\n",
      "(49, -1.25)\n",
      "(18, -0.25)\n",
      "(55, 0.25)\n",
      "(42, -0.5)\n",
      "(34, -0.25)\n",
      "(35, -0.75)\n",
      "(37, -0.5)\n",
      "(9, -1.0)\n",
      "(15, -0.75)\n",
      "(17, -1.0)\n",
      "(22, -1.5)\n",
      "(1, -1.25)\n",
      "(34, -3.0)\n",
      "(37, -2.5)\n",
      "(8, -1.25)\n",
      "(15, -2.0)\n",
      "(16, -1.0)\n"
     ]
    },
    {
     "data": {
      "text/plain": [
       "{38, 41, 52, 58}"
      ]
     },
     "execution_count": 83,
     "metadata": {},
     "output_type": "execute_result"
    }
   ],
   "source": [
    "degree_discount()"
   ]
  },
  {
   "cell_type": "code",
   "execution_count": 75,
   "metadata": {},
   "outputs": [
    {
     "data": {
      "text/plain": [
       "23.0307"
      ]
     },
     "execution_count": 75,
     "metadata": {},
     "output_type": "execute_result"
    }
   ],
   "source": [
    "ic_evaluate({38, 41, 52, 58})"
   ]
  },
  {
   "cell_type": "code",
   "execution_count": 68,
   "metadata": {},
   "outputs": [
    {
     "name": "stdout",
     "output_type": "stream",
     "text": [
      "0.758064612903\n"
     ]
    }
   ],
   "source": [
    "total_weight = 0\n",
    "for vertex in graph.vertices():\n",
    "    for k2,v2 in graph[vertex].iteritems():\n",
    "        total_weight += v2['weight']\n",
    "print(total_weight/len(graph.vertices()))"
   ]
  },
  {
   "cell_type": "code",
   "execution_count": null,
   "metadata": {},
   "outputs": [],
   "source": []
  }
 ],
 "metadata": {
  "kernelspec": {
   "display_name": "Python 2",
   "language": "python",
   "name": "python2"
  },
  "language_info": {
   "codemirror_mode": {
    "name": "ipython",
    "version": 2
   },
   "file_extension": ".py",
   "mimetype": "text/x-python",
   "name": "python",
   "nbconvert_exporter": "python",
   "pygments_lexer": "ipython2",
   "version": "2.7.12"
  }
 },
 "nbformat": 4,
 "nbformat_minor": 2
}
